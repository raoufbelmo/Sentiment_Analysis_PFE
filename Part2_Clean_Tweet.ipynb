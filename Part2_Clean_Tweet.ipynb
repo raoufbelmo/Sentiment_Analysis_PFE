{
 "cells": [
  {
   "cell_type": "markdown",
   "id": "f36f1f2c-6c43-49c6-acf7-c2c4b54de399",
   "metadata": {},
   "source": [
    "### Clean tweet"
   ]
  },
  {
   "cell_type": "code",
   "execution_count": 2,
   "id": "60707574-2e98-4d4e-80ed-bd650a2531c4",
   "metadata": {},
   "outputs": [],
   "source": [
    "import pandas as pd\n",
    "import re\n",
    "df=pd.read_csv('covid2021.csv')\n",
    "new_clom=[]\n",
    "#def clean_tweets(df):\n",
    "    \n",
    "for t in df['tweet'] :\n",
    "        result = re.sub(r\"http\\S+\", \"\", t) #clean links\n",
    "        tweet = re.sub(r'\\@\\w+', ' ', result) # clean hachtags\n",
    "        x = re.sub('[^A-Za-z]', ' ', tweet.lower()) #clean all except alphbitc\n",
    "        reusfinal=re.sub(' +', ' ', x)\n",
    "        new_clom.append(reusfinal)  \n",
    "        #tweetIndex = t.find('https://t.co')\n",
    "        #print(t)\n",
    "        #print(z)\n",
    "        #print(\"-------------------------------------------\")\n",
    "        #print(tweetIndex)\n",
    "    \n",
    "                       \n",
    "df['cleanTweet'] = new_clom\n",
    "df['cleanTweet']\n",
    "df.to_csv('covid2021_clean.csv')\n",
    "        \n",
    "           \n",
    "        \n",
    "    \n"
   ]
  },
  {
   "cell_type": "markdown",
   "id": "1e4c647c-5439-4126-b527-4087e3629f57",
   "metadata": {},
   "source": [
    "### tokenized tweets and stop word\n"
   ]
  },
  {
   "cell_type": "code",
   "execution_count": 4,
   "id": "c7525682-0667-4aed-bd05-e243380b57b8",
   "metadata": {
    "collapsed": true,
    "jupyter": {
     "outputs_hidden": true
    },
    "tags": []
   },
   "outputs": [
    {
     "name": "stdout",
     "output_type": "stream",
     "text": [
      "['wake', 'score', 'cancelled', 'performances', 'due', 'covid', 'concerns', 'many', 'theatergoers', 'theater', 'makers', 'looking', 'uncertain', 'future', 'broadway', 'theater', 'covid', 'entertainment']\n",
      "['yes', 'thing', 'dems', 'going', 'vote', 'republican', 'mid', 'terms', 'matter', 'awful', 'biden', 'even', 'know', 'liberal', 'leaning', 'independents', 'feel', 'like', 'thrown', 'wolves', 'covid', 'least', 'feel', 'like', 'trump', 'administration', 'tried']\n",
      "['say', 'trump', 'healthier', 'died', 'covid']\n",
      "['bring', 'back', 'covid', 'saliva', 'tests']\n",
      "['highest', 'single', 'day', 'spike', 'delhi', 'covid', 'omicron', 'omicronindia', 'omicronvariant', 'delmicron', 'delhifightscorona']\n",
      "['already', 'know', 'government', 'putting', 'public', 'health', 'risk', 'wait', 'see', 'impact', 'hospitalisations', 'bollocks', 'smokescreen', 'hospitalizations', 'already', 'roof', 'inconvenient', 'truth', 'covid']\n",
      "['newest', 'conspiracy', 'bullshit', 'healthy', 'children', 'need', 'vaccine', 'preexisting', 'conditions', 'covid', 'single', 'healthy', 'child', 'ever', 'died', 'covid', 'complete', 'bullshit', 'covid', 'antivaxxers', 'conspiracytheories']\n",
      "['omicron', 'extremely', 'transmissible', 'likelihood', 'testing', 'positive', 'always', 'days', 'initial', 'exposure', 'health', 'providers', 'push', 'masking', 'social', 'distancing', 'said', 'dr', 'sindhu', 'aderson', 'northwestern', 'medicine', 'immediate', 'covid']\n",
      "['ghs', 'begins', 'investigation', 'beenie', 'breaking', 'covid', 'protocol', 'allegedly', 'tested', 'positive', 'covid', 'joynews']\n",
      "['vaccines', 'save', 'lives', 'smallpox', 'rabies', 'tetanus', 'typhoid', 'fever', 'tb', 'diphtheria', 'whooping', 'cough', 'yellow', 'fever', 'flu', 'polio', 'measles', 'mumps', 'rubella', 'chickenpox', 'covid', 'getvaccinated', 'wearamask']\n",
      "['congratulations', 'telangana', 'even', 'second', 'dose', 'coverage', 'far', 'behind', 'already', 'vaccinated', 'lakh', 'citizens', 'go', 'karimnagar', 'dt', 'hyderabad', 'leads', 'nd', 'dose', 'vaccination', 'covid']\n",
      "['sliding', 'standard', 'anti', 'vax', 'anti', 'big', 'pharma', 'anti', 'mandates', 'anti', 'vax', 'passports', 'anti', 'boosters', 'antivaxxers', 'covid']\n",
      "['picture', 'nurse', 'working', 'covid', 'hospital', 'extra', 'ur', 'work', 'requirements', 'causing', 'injury', 'requiring', 'surgery', 'repair', 'fire', 'cutting', 'medical', 'coverage', 'recovery', 'leaving', 'battling', 'covid', 'health']\n",
      "['rand', 'paul', 'blames', 'covid', 'deaths', 'fauci', 'due', 'bias', 'towards', 'vaccines', 'therapeutics', 'monoclonal', 'antibodies', 'treatment', 'right', 'covid', 'vaccine']\n",
      "['newsalert', 'delhi', 'records', 'covid', 'cases', 'highest', 'since', 'june', 'fatality', 'positivity', 'rate', 'authorities', 'delhi', 'covid', 'omicronvariant']\n",
      "['think', 'play', 'aussie', 'open', 'covid', 'amp', 'probably', 'antibodies', 'fight', 'really', 'knows', 'long', 'last', 'vaccine', 'money', 'making', 'scam', 'ask', 'enough', 'vaccine', 'shots', 'amp', 'booster', 'lasts', 'wks']\n",
      "['another', 'tragic', 'example', 'covid', 'mass', 'psychosis', 'petermcculloughmd', 'covidvaccination', 'vaccination', 'boosterjab']\n",
      "['let', 'neocons', 'gaslight', 'florida', 'open', 'orlando', 'area', 'back', 'masks', 'live', 'fl', 'amp', 'actually', 'leave', 'home', 'public', 'covid', 'hoax', 'neocons', 'gaslighting', 'florida', 'open', 'covid', 'hoax', 'stop', 'sheeple', 'covid']\n",
      "['effective', 'preventing', 'covid', 'cases', 'south', 'africa', 'give', 'ceo', 'year', 'totallie']\n",
      "['amber', 'level', 'alert', 'friday', 'saturday', 'covid', 'delhi']\n",
      "['according', 'dw', 'tv', 'germany', 'borrowed', 'billion', 'support', 'economy', 'since', 'pandemic', 'citizens', 'serious', 'financial', 'problems', 'covid', 'wahala', 'everywhere']\n",
      "['first', 'covid', 'shot', 'recipient', 'us', 'vaccine', 'activist']\n",
      "['westvirginia', 'top', 'chart', 'covid', 'deaths', 'wtfacts']\n",
      "['important', 'thread', 'ethics', 'recs', 'working', 'positive', 'healthcare', 'systems', 'requiring', 'hcws', 'work', 'positive', 'disclosed', 'patients', 'always', 'covid']\n",
      "['unless', 'develop', 'symptoms', 'first', 'testing', 'five', 'seven', 'days', 'exposure', 'cdc', 'recommendation', 'testing', 'early', 'give', 'false', 'sense', 'security', 'doctors', 'warn', 'chicago', 'cdc', 'covid']\n",
      "['guidance', 'rules', 'public', 'health', 'measures', 'scientists', 'think', 'work', 'best', 'prevent', 'spread', 'covid', 'via', 'riskcommunication']\n",
      "['delta', 'spreads', 'covid', 'profits', 'people', 'ur', 'slogan']\n",
      "['keeping', 'wheels', 'turning', 'important', 'keeping', 'us', 'safe', 'failed', 'right', 'science', 'presis', 'follows', 'science', 'deliver', 'science', 'put', 'americans', 'risk', 'fix', 'vtpoli', 'covid', 'omicron']\n",
      "['accurate', 'amp', 'sold', 'everywhere', 'wait', 'perrottet', 'said', 'today', 'get', 'covid', 'testing', 'kits', 'late', 'january', 'yay', 'full', 'lies', 'testing', 'kits', 'like', 'vaccination', 'bungles', 'little', 'late', 'letitrip', 'covid']\n",
      "['covid', 'idiots', 'killing', 'kids', 'smdh']\n",
      "['booster', 'dose', 'covid', 'vaccine', 'pfizer', 'covid']\n",
      "['cue', 'libs', 'following', 'science', 'editorials', 'people', 'actually', 'wait', 'negative', 'test', 'coming', 'isolation']\n",
      "['sample', 'covid', 'positive', 'dibrugarh', 'university', 'student', 'sent', 'genome', 'sequencing', 'assam', 'omicron']\n",
      "['state', 'amp', 'local', 'sequencing', 'capacity', 'abysmal', 'since', 'start', 'pandemic', 'pgh', 'generally', 'back', 'covid', 'epi', 'nationally', 'throughout', 'w', 'trends', 'eventually', 'arriving', 'east', 'coast', 'appalachia', 'upper', 'midwest', 'got', 'believe', 'seeing', 'omicron', 'though', 'w', 'numbers']\n",
      "['virginia', 'covid', 'cases', 'continue', 'surge', 'since', 'monday', 'morning', 'deaths', 'hospitalizations', 'covid', 'cases', 'massive', 'past', 'days']\n",
      "['past', 'year', 'faced', 'challenge', 'another', 'covid', 'mental', 'health', 'crisis', 'healthcare', 'worker', 'exhaustion', 'together', 'taken', 'extraordinary', 'steps', 'forward', 'look', 'back', 'stories', 'shaped', 'year']\n",
      "['step', 'program', 'get', 'uk', 'covid', 'mass', 'psychosis', 'stop', 'testing', 'tests', 'bogus', 'useless', 'treat', 'everyone', 'healthy', 'unless', 'proven', 'otherwise', 'acknowledge', 'vaccines', 'effective', 'stop', 'taking', 'advice', 'state', 'sage']\n",
      "['yellowalert', 'declared', 'delhi', 'new', 'covid', 'cases', 'registered', 'last', 'hrs']\n",
      "['working', 'allergist', 'office', 'today', 'omg', 'covid', 'covidtesting', 'panic', 'shame', 'leaders', 'letitrip', 'afraid', 'political', 'push', 'back', 'health', 'safety']\n",
      "['cdc', 'cdc', 'shortened', 'recommended', 'time', 'covid', 'isolation', 'quarantine', 'anyway', 'check', 'blue', 'green', 'color', 'block', 'mask', 'redbubble']\n",
      "['experts', 'say', 'uk', 'must', 'learn', 'live', 'coronavirus', 'professors', 'predict', 'worst', 'covid']\n",
      "['kenya', 'records', 'new', 'covid', 'cases', 'last', 'hrs', 'total', 'number', 'positivity', 'rate', 'stands', 'trending', 'covid', 'raila', 'jkia', 'pesa', 'beforeandafteruhuru']\n",
      "['protip', 'keeping', 'sane', 'sustained', 'pandemic', 'stick', 'works', 'go', 'w', 'highest', 'level', 'protection', 'know', 'risks', 'proceed', 'caution', 'usa', 'must', 'serious', 'soul', 'searching', 'standout', 'terms', 'rate', 'covid', 'infection', 'amp', 'mortality']\n",
      "['fyi', 'covid', 'numbers', 'continue', 'rise', 'georgia', 'tests', 'becoming', 'limited', 'govern', 'according', 'gapol']\n",
      "['omicron', 'worried', 'stop', 'thinking', 'kids', 'vaccinated', 'kids', 'eligible', 'boosters', 'decisions', 'affect', 'omicron', 'covid']\n",
      "['beware', 'mutating', 'virus', 'covid', 'mtgisatraitortous']\n",
      "['punjab', 'state', 'india', 'bans', 'entry', 'fully', 'vaccinated', 'people', 'jan', 'public', 'places', 'official', 'release', 'state', 'govt', 'believe', 'sensible', 'decision', 'view', 'omicron', 'delmicron', 'varient', 'covid', 'younis']\n",
      "['covid', 'mask', 'wearing', 'good', 'enough', 'amid', 'omicron', 'experts', 'say', 'via', 'ppe', 'masks']\n",
      "['cdc', 'cdc', 'shortened', 'recommended', 'time', 'covid', 'isolation', 'quarantine', 'anyway', 'check', 'international', 'klein', 'blue', 'mask', 'redbubble']\n",
      "['know', 'covid', 'many', 'symptoms', 'individual', 'show', 'symptoms', 'listed', 'please', 'follow', 'guidelines', 'regards', 'staying', 'home', 'going', 'school', 'covid', 'besafe']\n",
      "['covid', 'maharashtra', 'reports', 'new', 'cases', 'recoveries', 'deaths', 'today']\n",
      "['yellowalert', 'delhi', 'omicronindia', 'omicron', 'covid', 'vaccine', 'failure', 'depopulationagenda', 'newworldorder', 'covid', 'experimental', 'making', 'people', 'sick']\n",
      "['homegrown', 'pharma', 'majors', 'hetero', 'torrent', 'announced', 'plans', 'market', 'versions', 'antiviral', 'molnupiravir', 'treat', 'high', 'risk', 'adult', 'patients', 'covid', 'across', 'india', 'shortly', 'covid', 'covidvariant', 'india', 'cipla']\n",
      "['good', 'best', 'great', 'time', 'think', 'tried', 'convey', 'covid', 'anything', 'existed', 'days', 'like', 'many', 'planets', 'astronomers', 'find', 'passage', 'time', 'normal', 'body', 'well', 'built', 'fight', 'viruses', 'best']\n",
      "['covid', 'figures', 'staggering', 'global', 'tally', 'covid', 'rose', 'million', 'tuesday', 'morning', 'death', 'toll', 'climbed', 'million', 'according', 'data', 'aggregated', 'johns', 'hopkins', 'university']\n",
      "['think', 'yes', 'r', 'facing', 'covid', 'shut', 'cinama', 'solution', 'think', 'cinama', 'workers']\n",
      "['covid', 'affecting', 'tech', 'salaries', 'exocommunity', 'openexo', 'exoinsight', 'covid', 'exponentialinsights']\n",
      "['indians', 'normalised', 'shitty', 'behaviour', 'regardless', 'repeated', 'telling', 'awareness', 'cares', 'stop', 'ignorant', 'people', 'think', 'socialwork', 'covid', 'omicron', 'omicronindia']\n",
      "['cruise', 'ships', 'covid', 'jails', 'anymore', 'turned', 'away', 'ports', 'cruising', 'traveltuesday', 'covid', 'omicron']\n",
      "['feel', 'young', 'ppl', 'fed', 'lil', 'free', 'two', 'years', 'livin', 'fear', 'contracting', 'covid', 'takes', 'toll', 'someone', 'mental', 'health']\n",
      "['covid', 'many', 'emergent', 'diseases', 'hurt', 'elderly', 'surely', 'last', 'writes', 'india', 'undertake', 'suitable', 'policy', 'changes', 'ensure', 'survival', 'omnicronvariant', 'pandemic']\n",
      "['covid', 'actions', 'taken', 'violating', 'mandatory', 'quarantine', 'rule', 'gujarat', 'coronavirus', 'tv', 'news']\n",
      "['hold', 'xi', 'covid']\n",
      "['recent', 'wave', 'covid', 'engulfed', 'us', 'short', 'time', 'still', 'puzzle', 'perhaps', 'influx', 'people', 'countries', 'coming', 'xmas', 'remember', 'happened', 'week', 'th', 'dec', 'scientists', 'coming', 'say', 'thing']\n",
      "['clear', 'opllo', 'operation', 'local', 'ecommerce', 'platform', 'created', 'profit', 'organization', 'community', 'ventures', 'covid', 'pandemic', 'opllo', 'designed', 'specifically', 'small', 'businesses', 'entrepreneurs', 'reach', 'new', 'broader']\n",
      "['today', 'delhi', 'reports', 'huge', 'jump', 'covid', 'cases', 'compared', 'yesterday', 'new', 'cases', 'death', 'recoveries', 'last', 'hours', 'active', 'cases', 'please', 'wearamask', 'delhi', 'covid', 'coronaindelhi', 'yellowalert', 'omicronindia']\n",
      "['new', 'covid', 'cases', 'mumbai', 'today', 'higher', 'yesterday', 'covid', 'omicron']\n",
      "['true', 'supposed', 'press', 'conference', 'today', 'three', 'together', 'covid', 'vaccinemandates', 'schools', 'pressconference']\n",
      "['interesting', 'observation', 'omicron', 'less', 'virulent', 'variant', 'far', 'may', 'may', 'displace', 'delta', 'counterpart', 'covid']\n",
      "['many', 'covid', 'antivaxxers', 'calling', 'advice', 'omicronvirus']\n",
      "['ranvirshorey', 'tests', 'positive', 'covid', 'goa', 'holiday', 'actor', 'shares', 'update']\n",
      "['new', 'cases', 'new', 'deaths', 'germany', 'gmt', 'coronavirus', 'coronavirusupdate', 'covid', 'coronaviruspandemic']\n",
      "['news', 'prof', 'varsha', 'gaikwad', 'tested', 'covid', 'positive', 'definitely', 'possible', 'students', 'th', 'th', 'appearing', 'board', 'examinations', 'tested', 'positive', 'cancelboardexams', 'cancelboardexam', 'covid']\n",
      "['watched', 'first', 'hour', 'amp', 'minutes', 'dontlookup', 'amp', 'work', 'fiction', 'dark', 'documentary', 'covid']\n",
      "['history', 'buff', 'happy', 'crossing', 'reenactment', 'return', 'year', 'covid', 'silence', 'history', 'forever']\n",
      "['glad', 'share', 'odisha', 'achieved', 'milestone', 'full', 'vaccination', 'crore', 'people', 'remarkable', 'achievement', 'motivates', 'fight', 'covid', 'full', 'spirit', 'coming', 'year', 'let', 'target', 'beneficiary', 'fully', 'vaccinated', 'nabadasjsg', 'nabadashealthminister']\n",
      "['covid', 'maharashtra', 'reports', 'new', 'cases', 'recoveries', 'deaths', 'today', 'active', 'cases', 'new', 'omicron', 'case', 'reported', 'state', 'date', 'total', 'omicron', 'cases', 'reported', 'maharashtra', 'ani']\n",
      "['injected', 'covid', 'vax', 'possessed', 'evil', 'spirit']\n",
      "['two', 'covid', 'vaccines', 'version', 'shot', 'covovax', 'homegrown', 'drugmaker', 'biological', 'corbevax', 'granted', 'emergency', 'use', 'approval', 'india', 'covid', 'compliance', 'procurement']\n",
      "['need', 'rapid', 'covid', 'test', 'local', 'pharmacy', 'sold', 'stock', 'covidtesting', 'covid', 'gettested', 'rapidtest', 'rapidantigentests', 'wetestforcovid']\n",
      "['despite', 'mexico', 'medical', 'device', 'shortages', 'devastating', 'covid', 'outbreak', 'mexican', 'hospitals', 'patients', 'access', 'maquiladora', 'fabricated', 'critical', 'supplies', 'via', 'usmca']\n",
      "['hey', 'working', 'covid', 'becomes', 'normalized', 'maybe', 'would', 'good', 'time', 'general', 'workers', 'strike', 'let', 'give', 'capitalism', 'january', 'st', 'solidarity', 'covid']\n",
      "['journalist', 'asking', 'governorstitt', 'oklahoma', 'highest', 'covid', 'death', 'rate', 'entire', 'country', 'job']\n",
      "['praying', 'office', 'staff', 'caregivers', 'families', 'friends', 'currently', 'dealing', 'impact', 'covid', 'let', 'us', 'continue', 'stay', 'safe', 'healthy', 'observing', 'necessary', 'precautions', 'following', 'public', 'health', 'recommendations', 'covid']\n",
      "['fda', 'support', 'best', 'covid', 'tests', 'politics', 'corruption', 'incompetence', 'fda', 'athometest', 'covid']\n",
      "['private', 'antibody', 'test', 'france', 'last', 'time', 'paid', 'several', 'hundred', 'private', 'uk', 'test', 'covid']\n",
      "['omicron', 'disease', 'seeing', 'year', 'ago', 'high', 'covid', 'death', 'rates', 'history', 'leading', 'immunologist', 'sir', 'john', 'bell', 'says', 'via']\n",
      "['earlier', 'year', 'aurobindo', 'pharma', 'cipla', 'sun', 'pharmaceuticals', 'others', 'signed', 'exclusive', 'voluntary', 'licensing', 'agreements', 'manufacture', 'supply', 'molnupiravir', 'india', 'covid', 'compliance', 'procurement', 'ip', 'trips', 'wto']\n",
      "['funny', 'tell', 'anti', 'vaxxer', 'vaccine', 'may', 'cause', 'cardiac', 'issues', 'like', 'gospel', 'tell', 'covid', 'causes', 'cardiac', 'issues', 'go', 'mega', 'denial', 'lying', 'cold', 'bit', 'sniffle', 'etc', 'odd', 'folk', 'covid']\n",
      "['vediamo', 'dopo', 'see', 'later', 'daymotivation', 'poldo', 'italianfood', 'ph', 'ph', 'order', 'subscrive', 'facebook', 'group', 'thailand', 'bkk', 'italy', 'wearamask', 'covid', 'foodie', 'goodeats']\n",
      "['wanted', 'block', 'covid', 'timeline', 'came', 'realization', 'would', 'nothing', 'left', 'read', 'twitter']\n",
      "['mean', 'tell', 'career', 'politician', 'said', 'thing', 'election', 'something', 'different', 'afterwards', 'shocking', 'breakingnews', 'covid']\n",
      "['expect', 'unvaccinated', 'amp', 'immunocompromised', 'states', 'run', 'covid']\n",
      "['tested', 'positive', 'omicron', 'yesterday', 'experiencing', 'symptoms', 'since', 'sunday', 'night', 'assumed', 'simply', 'flu', 'felt', 'horrible', 'bones', 'hurt', 'lost', 'sensitivity', 'going', 'spend', 'rest', 'year', 'bed', 'husband', 'kids', 'covid']\n",
      "['whether', 'delta', 'omicron', 'variant', 'covid', 'wear', 'mask', 'properly', 'washyourhands', 'regularly', 'get', 'vaccinated', 'follow', 'covid', 'guidelines', 'need', 'panic', 'fearmongering', 'follow', 'guidelines', 'may', 'get', 'infected']\n",
      "['helps', 'help', 'doctors', 'need', 'serve', 'nation', 'anymore', 'nation', 'repayed', 'cost', 'good', 'way', 'covid', 'warriors', 'fight', 'life', 'service', 'needed', 'expediteneetpgcounselling', 'doctorsstrike']\n",
      "['americans', 'storm', 'gut', 'bomb', 'eatery', 'aka', 'burger', 'king', 'nyc', 'covid', 'restrictions', 'vaxxedvsantivaxx', 'day', 'wait', 'day', 'bwhahahaha']\n",
      "['personal', 'experience', 'covid', 'covidtesting', 'omicron', 'covid', 'kids', 'unvaxed', 'wife', 'unvaxed', 'due', 'medical', 'vaxed', 'recently', 'tested', 'covid', 'wife', 'week', 'sick', 'kids', 'days', 'sick', 'vaxed', 'days', 'sick', 'stay', 'safe']\n",
      "['covid', 'god', 'new', 'vaxxer', 'religion', 'fauci', 'prophet', 'god', 'pestilence', 'fear', 'bowed', 'lest', 'suffer', 'great', 'wrath']\n",
      "['get', 'beer', 'kegs', 'shot', 'glasses', 'payment', 'processors', 'elem', 'high', 'schools', 'asap', 'gathered', 'missing', 'keeping', 'schools', 'safe', 'open', 'next', 'week', 'covid', 'dougfordresign', 'covidontario']\n",
      "['perhaps', 'tyranny', 'eventually', 'alters', 'chemical', 'balance', 'pro', 'sisi', 'egyptian', 'reports', 'british', 'acc', 'tweet', 'demanded', 'boris', 'johnson', 'follows', 'egypt', 'govt', 'fighting', 'covid']\n",
      "['state', 'people', 'hospital', 'covid', 'unvaccinated', 'mention', 'deaths']\n",
      "['goes', 'covid']\n",
      "['legit', 'thought', 'covid', 'test']\n",
      "['yes', 'keeping', 'schools', 'open', 'risks', 'giving', 'kids', 'covid', 'omicron', 'risks', 'giving', 'parents', 'talks', 'risk', 'teachers', 'health', 'even', 'run', 'schools', 'massive', 'labour', 'shortages', 'due', 'covid', 'onpoli', 'onted']\n",
      "['exactly', 'happening', 'concerned', 'power', 'public', 'health', 'british', 'english', 'people', 'covid']\n",
      "['delhi', 'witnesses', 'biggest', 'single', 'day', 'spike', 'since', 'june', 'covid', 'massive', 'spike', 'daily', 'covid', 'cases', 'mumbai', 'delhi']\n",
      "['nypd', 'cops', 'right', 'thing', 'save', 'society', 'social', 'misfits', 'zombies', 'covid', 'ought', 'political', 'game', 'kills']\n",
      "['alex', 'jones', 'unloads', 'trump', 'completely', 'ignorant', 'called', 'vaccine', 'evil', 'ever', 'lived', 'alexjones', 'vs', 'donaldtrump', 'getvaccinatednow', 'covid']\n",
      "['sending', 'blatant', 'covid', 'omicron', 'propaganda', 'week', 'confirmed', 'booster', 'used', 'people', 'stop', 'bullshit']\n",
      "['ongoing', 'pandemic', 'continue', 'give', 'anyone', 'else', 'extreme', 'anxiety', 'public', 'covid', 'covid', 'disabilitytwitter', 'tourettes', 'autism']\n",
      "['nodiscrimination', 'covid', 'covid', 'pls', 'video', 'must', 'viral']\n",
      "['jordi', 'alba', 'becomes', 'third', 'barca', 'player', 'test', 'positive', 'covid', 'check', 'full', 'barcelona', 'covid', 'barca', 'jordialba']\n",
      "['need', 'covid', 'test', 'easy', 'get', 'nairobi', 'everything', 'need', 'know', 'call', 'api', 'whatsapp', 'email', 'covidtest', 'gmail', 'long', 'queues', 'stuck', 'traffic', 'hours', 'waiting', 'long', 'hours']\n",
      "['sad', 'old', 'find', 'funny', 'people', 'becoming', 'infected', 'covid']\n",
      "['conversation', 'anti', 'vaxxer', 'morning', 'regarding', 'transparency', 'vaccine', 'antivax', 'covid', 'transparency', 'hotdogs']\n",
      "['bmc', 'issues', 'new', 'rules', 'mumbai', 'residents', 'arriving', 'dubai', 'travelnews', 'travel', 'covid', 'dubai']\n",
      "['achievements', 'restricted', 'covid', 'deaths', 'extremely', 'high', 'unemployment', 'collection', 'crores', 'electoral', 'bonds', 'without', 'buyers']\n",
      "['throwback', 'impact', 'covid', 'livelihoods', 'vulnerable', 'people', 'required', 'wfp', 'expand', 'urban', 'areas', 'reached', 'families', 'cash', 'transfers', 'district', 'towns', 'w']\n",
      "['covid', 'maharashtra', 'reports', 'new', 'cases', 'recoveries', 'deaths', 'today', 'active', 'cases', 'new', 'omicron', 'case', 'reported', 'state', 'date', 'total', 'omicron', 'cases', 'reported', 'maharashtra', 'ani']\n",
      "['ghanaians', 'believe', 'covid', 'still', 'wrecking', 'families', 'know', 'something', 'rest', 'us', 'know', 'covid']\n",
      "['good', 'news', 'newyear', 'via', 'covid', 'economy', 'climatechange']\n",
      "['watching', 'itsasin', 'today', 'best', 'part', 'covid', 'isolation', 'far']\n",
      "['facts', 'matter', 'least', 'vaccinated', 'states', 'offer', 'highest', 'death', 'rate', 'covid', 'wonder', 'many', 'types', 'death', 'increased', 'states', 'hospitals', 'overcrowded', 'unvaccinated']\n",
      "['lying', 'fuckers', 'complete', 'utter', 'liars', 'covidiots', 'covid', 'british', 'coviduk']\n"
     ]
    },
    {
     "data": {
      "text/plain": [
       "0      [wake, score, cancelled, performances, due, co...\n",
       "1      [yes, thing, dems, going, vote, republican, mi...\n",
       "2                   [say, trump, healthier, died, covid]\n",
       "3                    [bring, back, covid, saliva, tests]\n",
       "4      [highest, single, day, spike, delhi, covid, om...\n",
       "                             ...                        \n",
       "120    [ghanaians, believe, covid, still, wrecking, f...\n",
       "121    [good, news, newyear, via, covid, economy, cli...\n",
       "122    [watching, itsasin, today, best, part, covid, ...\n",
       "123    [facts, matter, least, vaccinated, states, off...\n",
       "124    [lying, fuckers, complete, utter, liars, covid...\n",
       "Name: stop_word, Length: 125, dtype: object"
      ]
     },
     "execution_count": 4,
     "metadata": {},
     "output_type": "execute_result"
    }
   ],
   "source": [
    "\n",
    "from nltk.corpus import stopwords\n",
    "from nltk.tokenize import word_tokenize\n",
    "\n",
    "df=pd.read_csv('covid2021.csv')\n",
    "new_clom1=[]\n",
    "for t in df['cleanTweet']:\n",
    "    \n",
    "    text_tokens = word_tokenize(t)\n",
    "\n",
    "    to = [word for word in text_tokens if not word in stopwords.words()]\n",
    "    new_clom1.append(to)  \n",
    "    \n",
    "\n",
    "    \n",
    "    print(to)\n",
    "    \n",
    "df['stop_word'] = new_clom1\n",
    "df['stop_word']\n",
    "    "
   ]
  },
  {
   "cell_type": "code",
   "execution_count": 6,
   "id": "62877747-f52e-4afb-99d6-cb85f489f095",
   "metadata": {},
   "outputs": [],
   "source": [
    "df.to_csv('covid2021.csv')"
   ]
  },
  {
   "cell_type": "markdown",
   "id": "e94dc355-929d-43d3-b243-314b80cc3082",
   "metadata": {
    "jp-MarkdownHeadingCollapsed": true,
    "tags": []
   },
   "source": [
    "### tokenized tweets "
   ]
  },
  {
   "cell_type": "code",
   "execution_count": 4,
   "id": "b801b528-1ff2-477e-b536-9eb8c031631d",
   "metadata": {},
   "outputs": [
    {
     "data": {
      "text/plain": [
       "0      [in, the, wake, of, a, score, of, cancelled, p...\n",
       "1      [yes, it, is, the, thing, is, dems, are, not, ...\n",
       "2      [so, you, re, say, trump, is, healthier, than,...\n",
       "3                    [bring, back, covid, saliva, tests]\n",
       "4      [highest, single, day, spike, in, delhi, again...\n",
       "                             ...                        \n",
       "120    [so, why, don, t, some, ghanaians, believe, co...\n",
       "121    [good, news, for, the, newyear, via, covid, ec...\n",
       "122    [re, watching, itsasin, today, best, part, of,...\n",
       "123    [facts, matter, least, vaccinated, states, off...\n",
       "124    [lying, fuckers, complete, and, utter, liars, ...\n",
       "Name: tweet_tokenized, Length: 125, dtype: object"
      ]
     },
     "execution_count": 4,
     "metadata": {},
     "output_type": "execute_result"
    }
   ],
   "source": [
    "import twikenizer as twk\n",
    "twk = twk.Twikenizer()\n",
    "new_clom=[]\n",
    "df=pd.read_csv('covid2021_clean.csv')\n",
    "for t in df['cleanTweet']:\n",
    "    reusfinal=twk.tokenize(t)\n",
    "    new_clom.append(reusfinal)  \n",
    "    #print(reusfinal)\n",
    "    \n",
    "df['tweet_tokenized'] = new_clom\n",
    "df['tweet_tokenized'] \n",
    "    "
   ]
  },
  {
   "cell_type": "code",
   "execution_count": 5,
   "id": "f298cb1a-0c3d-4888-ba05-5d4411ffc2a1",
   "metadata": {},
   "outputs": [],
   "source": [
    "df['tweet_tokenized'].to_csv('tweet_tokenized.csv')"
   ]
  },
  {
   "cell_type": "code",
   "execution_count": null,
   "id": "79053f2b-ddb2-406d-bc54-5ffa079e8dcf",
   "metadata": {},
   "outputs": [],
   "source": []
  }
 ],
 "metadata": {
  "kernelspec": {
   "display_name": "Python 3 (ipykernel)",
   "language": "python",
   "name": "python3"
  },
  "language_info": {
   "codemirror_mode": {
    "name": "ipython",
    "version": 3
   },
   "file_extension": ".py",
   "mimetype": "text/x-python",
   "name": "python",
   "nbconvert_exporter": "python",
   "pygments_lexer": "ipython3",
   "version": "3.9.7"
  }
 },
 "nbformat": 4,
 "nbformat_minor": 5
}
